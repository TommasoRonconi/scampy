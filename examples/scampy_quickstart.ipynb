{
 "cells": [
  {
   "cell_type": "markdown",
   "metadata": {},
   "source": [
    "# Quickstart"
   ]
  },
  {
   "cell_type": "markdown",
   "metadata": {},
   "source": [
    "In this tutorial we show how to obtain a mock-catalogue using `scampy`.\n",
    "\n",
    "First, we will load a DM halo/sub-halo hierarchy obtained with the SUBFIND algorithm applied on a $z = 0$ GADGET snapshot.\n",
    "Then, we will \n",
    "\n",
    "1. populate the catalogue with galaxies\n",
    "\n",
    "2. associate to each galaxy a luminosity\n"
   ]
  },
  {
   "cell_type": "markdown",
   "metadata": {},
   "source": [
    "First of all, we populate the namespaces from numpy and matplotlib (it would be enough to state `import numpy as np` for working, this is mostly useful for plotting)"
   ]
  },
  {
   "cell_type": "code",
   "execution_count": 1,
   "metadata": {},
   "outputs": [
    {
     "name": "stdout",
     "output_type": "stream",
     "text": [
      "Populating the interactive namespace from numpy and matplotlib\n"
     ]
    }
   ],
   "source": [
    "# import numpy as np\n",
    "%pylab inline"
   ]
  },
  {
   "cell_type": "markdown",
   "metadata": {},
   "source": [
    "Now, we import the `catalogue` module from `scampy`:"
   ]
  },
  {
   "cell_type": "code",
   "execution_count": 2,
   "metadata": {},
   "outputs": [],
   "source": [
    "from scampy import catalogue"
   ]
  },
  {
   "cell_type": "markdown",
   "metadata": {},
   "source": [
    "We now build an object of type catalogue and read the halo/sub-halo hierarchy from the binary output of the SUBFIND algorithm.\n",
    "\n",
    "**Note** that, tipically, these outputs are given as a set of files with a common base-name, e.g. `subhalo_tab.0` for the first file in the set. Here we just need to provide the common name of all the files, i.e. `subhalo_tab`."
   ]
  },
  {
   "cell_type": "code",
   "execution_count": 3,
   "metadata": {},
   "outputs": [],
   "source": [
    "cat = catalogue.catalogue()\n",
    "cat.read_hierarchy_from_gadget( \"input/subhalo_tab\" )"
   ]
  },
  {
   "cell_type": "markdown",
   "metadata": {},
   "source": [
    "The catalogue we provide in the `input` directory has been obtained for a simulation box with side-lenght $L_\\text{box} = 512\\ \\text{Mpc}/h$, thus we can define a `volume` variable that we will use later:"
   ]
  },
  {
   "cell_type": "code",
   "execution_count": 4,
   "metadata": {},
   "outputs": [],
   "source": [
    "volume = 512**3"
   ]
  },
  {
   "cell_type": "markdown",
   "metadata": {},
   "source": [
    "## 1. Populate catalogue"
   ]
  },
  {
   "cell_type": "markdown",
   "metadata": {},
   "source": [
    "We will now populate the above catalogue with a 4-parameters HOD model:\n",
    "\\begin{align}\n",
    "N_\\text{cen} =& \\dfrac{1}{2} \\biggl[1 + \\text{erf}\\biggl(\\dfrac{\\log M_h - \\log A_\\text{min}}{\\sigma_{\\log A}}\\biggr)\\biggr]\\\\\n",
    "N_\\text{sat} =& \\biggl(\\dfrac{M_h}{A_\\text{sat}}\\biggr)^\\alpha_\\text{sat}\n",
    "\\end{align}\n",
    "with parameters: $A_\\text{min} = 10^{14}\\ M_\\odot/h$, $\\sigma_{\\log A} = 0.5$, $A_\\text{sat} = 10^{15}\\ M_\\odot/h$ and $\\alpha_\\text{sat} = 1$.\n",
    "\n",
    "To do so, we have first to build an object of type `occupation_p` with given parameters:"
   ]
  },
  {
   "cell_type": "code",
   "execution_count": 5,
   "metadata": {},
   "outputs": [],
   "source": [
    "from scampy import occupation_p\n",
    "ocp = occupation_p.tinker10_p( Amin = 1.e+14, siglogA = 0.5, Asat=1.e+15, alpsat=1. )"
   ]
  },
  {
   "cell_type": "markdown",
   "metadata": {},
   "source": [
    "Then, we can call the `populate` function of the class catalogue, which returns a populated catalogue and the number of hosted galaxies:"
   ]
  },
  {
   "cell_type": "code",
   "execution_count": 6,
   "metadata": {},
   "outputs": [],
   "source": [
    "gxy_cat, Ng = cat.populate( ocp )"
   ]
  },
  {
   "cell_type": "markdown",
   "metadata": {},
   "source": [
    "## 2. Associate luminosity"
   ]
  },
  {
   "cell_type": "markdown",
   "metadata": {},
   "source": [
    "In order to run the SHAM algorithm, we import the `abundance_matching` module of `scampy`"
   ]
  },
  {
   "cell_type": "code",
   "execution_count": 7,
   "metadata": {},
   "outputs": [],
   "source": [
    "from scampy import abundance_matching"
   ]
  },
  {
   "cell_type": "markdown",
   "metadata": {},
   "source": [
    "First of all, we need the probability distribution of the observable we want to add to the mock galaxies.\n",
    "\n",
    "Le us define a Schechter luminosity function:\n",
    "\\begin{equation}\n",
    "\\phi( M ) = 0.4 \\ln(10) \\phi^* 10^{0.4 (\\alpha + 1) (M - M^* )} \\exp\\bigl( -10^{0.4 (M - M^* )}\\bigr)\n",
    "\\end{equation}"
   ]
  },
  {
   "cell_type": "code",
   "execution_count": 8,
   "metadata": {},
   "outputs": [],
   "source": [
    "def schechter ( mag ) :\n",
    "    alpha = -1.07\n",
    "    norm = 1.6e-2\n",
    "    mstar = -19.7 + 5. * np.log10( 5. )\n",
    "    lum = - 0.4 * ( mag - mstar )\n",
    "    return 0.4 * np.log( 10 ) * norm * 10**( - 0.07 * lum ) * np.exp( - 10**lum )"
   ]
  },
  {
   "cell_type": "markdown",
   "metadata": {},
   "source": [
    "The routine that implements the SHAM algorithm operates on arrays of `galaxy` type objects, instead of on objects of type `catalogue`.\n",
    "\n",
    "Such arrays can be extracted from a populated catalogue either directly, by calling the `populate()` function with the argument `extract = True`:\n",
    "```python\n",
    "galaxies = cat.populate( ocp, extract = True )\n",
    "```\n",
    "or by calling the `extract_galaxies()` function of the `catalogue` module.\n",
    "This function takes 2 arguments:\n",
    "\n",
    "- an array of `host_halo` type objects (i.e. the `content` of a catalogue;\n",
    "\n",
    "- the number of galaxies found by the `populate` algorithm.\n"
   ]
  },
  {
   "cell_type": "code",
   "execution_count": 9,
   "metadata": {},
   "outputs": [],
   "source": [
    "galaxies = catalogue.extract_galaxies( gxy_cat.content, Ng )"
   ]
  },
  {
   "cell_type": "markdown",
   "metadata": {},
   "source": [
    "At this point we have everything we need for running the SHAM algorithm.\n",
    "It is implemented in the `abundance_matching()` function of the `abundance_matching` module.\n",
    "This function takes several argumens, we refer the reader to the documentation for a detailed description.\n",
    "\n",
    "The positional arguments are:\n",
    "\n",
    "- the array of `galaxy` type objects (`galaxies`);\n",
    "\n",
    "- the probability distribution of the observable property we want to match (it must depend only on one-variable).\n",
    "\n",
    "Here we are also setting the following keyword arguments:\n",
    "\n",
    "- `minL` and `maxL`, the limits of the free-variable in our probability distribution;\n",
    "\n",
    "- `nbinM`, the number of bins we want to divide the mass-space;\n",
    "\n",
    "- `factM`, the constant factor to multiply the mass-distribution (since we want a volume density, here we are passing `1/volume`.\n"
   ]
  },
  {
   "cell_type": "code",
   "execution_count": 10,
   "metadata": {},
   "outputs": [
    {
     "name": "stderr",
     "output_type": "stream",
     "text": [
      "/opt/miniconda3/envs/learn/lib/python3.6/site-packages/ipykernel_launcher.py:6: RuntimeWarning: overflow encountered in double_scalars\n",
      "  \n"
     ]
    }
   ],
   "source": [
    "galaxies = abundance_matching.abundance_matching( galaxies, schechter, \n",
    "                                                  minL = -20, maxL = -10,\n",
    "                                                  nbinM = 20, factM = 1. / volume ) "
   ]
  },
  {
   "cell_type": "markdown",
   "metadata": {},
   "source": [
    "... and that's all folks!\n",
    "\n",
    "The `galaxies` array now contains all the mock-galaxies of our catalogue."
   ]
  }
 ],
 "metadata": {
  "kernelspec": {
   "display_name": "Python 3",
   "language": "python",
   "name": "python3"
  },
  "language_info": {
   "codemirror_mode": {
    "name": "ipython",
    "version": 3
   },
   "file_extension": ".py",
   "mimetype": "text/x-python",
   "name": "python",
   "nbconvert_exporter": "python",
   "pygments_lexer": "ipython3",
   "version": "3.6.8"
  }
 },
 "nbformat": 4,
 "nbformat_minor": 2
}
